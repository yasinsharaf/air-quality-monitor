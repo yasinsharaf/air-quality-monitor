{
 "cells": [
  {
   "cell_type": "code",
   "execution_count": 3,
   "metadata": {
    "application/vnd.databricks.v1+cell": {
     "cellMetadata": {},
     "inputWidgets": {},
     "nuid": "6a404909-5b06-491c-80fd-f6488d17d872",
     "showTitle": false,
     "title": ""
    }
   },
   "outputs": [],
   "source": [
    "#import spark session and necessary dependencies for transformation\n",
    "from pyspark.sql import SparkSession\n",
    "from pyspark.sql.functions import col, to_timestamp, when"
   ]
  },
  {
   "cell_type": "markdown",
   "metadata": {},
   "source": [
    "### Create Session"
   ]
  },
  {
   "cell_type": "code",
   "execution_count": 4,
   "metadata": {},
   "outputs": [],
   "source": [
    "#build spark session for ingestion function\n",
    "spark = SparkSession.builder \\\n",
    "   .appName(\"RealTimeTransformation\") \\\n",
    "   .getOrCreate()"
   ]
  },
  {
   "cell_type": "markdown",
   "metadata": {},
   "source": [
    "## Weather"
   ]
  },
  {
   "cell_type": "markdown",
   "metadata": {},
   "source": [
    "### Extract"
   ]
  },
  {
   "cell_type": "code",
   "execution_count": null,
   "metadata": {},
   "outputs": [],
   "source": [
    "#read bronze data with schema inference (change in later mvps to explicit)\n",
    "bronze_path = \"/air-quality-monitoring-system/storagemedallionlayers/bronze/\"\n",
    "raw_df = spark.readStream \\\n",
    "   .format(\"json\") \\\n",
    "   .load(bronze_path)"
   ]
  },
  {
   "cell_type": "markdown",
   "metadata": {},
   "source": [
    "### Transform"
   ]
  },
  {
   "cell_type": "code",
   "execution_count": null,
   "metadata": {},
   "outputs": [],
   "source": [
    "#basic transformations\n",
    "processed_df = raw_df.withColumn(\"\") \\\n",
    "   .filter(col)"
   ]
  },
  {
   "cell_type": "code",
   "execution_count": null,
   "metadata": {},
   "outputs": [],
   "source": [
    "#additional transformations: bucketing, etc\n",
    "processed_df = processed_df.withColumn(\n",
    "    \"col\",\n",
    "    .when(),\n",
    "    .when(),\n",
    "    .otherwise(\"\")\n",
    ")"
   ]
  },
  {
   "cell_type": "markdown",
   "metadata": {},
   "source": [
    "### Load"
   ]
  },
  {
   "cell_type": "code",
   "execution_count": null,
   "metadata": {},
   "outputs": [],
   "source": [
    "#write to Silver layer\n",
    "silver_path = \"/air-quality-monitoring-system/storagemedallionlayers/silver/\"\n",
    "checkpoint_location = \"/air-quality-monitoring-system/storagemedallionlayers/checkpoints/real-time\"\n",
    "\n",
    "query = processed_df.writeStream \\\n",
    "   .format(\"parquet\") \\\n",
    "   .option(\"path\", silver_path) \\\n",
    "   .option(\"checkpointLocation\", checkpoint_location) \\\n",
    "   .outputMode(\"append\")"
   ]
  },
  {
   "cell_type": "markdown",
   "metadata": {},
   "source": [
    "## Air Quality"
   ]
  },
  {
   "cell_type": "markdown",
   "metadata": {},
   "source": [
    "## Water Quality"
   ]
  },
  {
   "cell_type": "markdown",
   "metadata": {},
   "source": [
    "## Foot Traffic"
   ]
  },
  {
   "cell_type": "code",
   "execution_count": null,
   "metadata": {},
   "outputs": [],
   "source": [
    "#await termination of stream\n",
    "query.awaitTermination()"
   ]
  }
 ],
 "metadata": {
  "application/vnd.databricks.v1+notebook": {
   "dashboards": [],
   "environmentMetadata": null,
   "language": "python",
   "notebookMetadata": {
    "pythonIndentUnit": 4
   },
   "notebookName": "02_ETL_Silver_Transformation",
   "widgets": {}
  },
  "kernelspec": {
   "display_name": "airqualityvenv",
   "language": "python",
   "name": "python3"
  },
  "language_info": {
   "codemirror_mode": {
    "name": "ipython",
    "version": 3
   },
   "file_extension": ".py",
   "mimetype": "text/x-python",
   "name": "python",
   "nbconvert_exporter": "python",
   "pygments_lexer": "ipython3",
   "version": "3.12.4"
  }
 },
 "nbformat": 4,
 "nbformat_minor": 0
}
