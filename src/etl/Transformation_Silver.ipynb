{
 "cells": [
  {
   "cell_type": "markdown",
   "metadata": {
    "application/vnd.databricks.v1+cell": {
     "cellMetadata": {
      "byteLimit": 2048000,
      "rowLimit": 10000
     },
     "inputWidgets": {},
     "nuid": "47a4e1af-aac8-4949-bfa1-3b695520d28d",
     "showTitle": false,
     "title": ""
    }
   },
   "source": [
    "### Config"
   ]
  },
  {
   "cell_type": "code",
   "execution_count": null,
   "metadata": {
    "application/vnd.databricks.v1+cell": {
     "cellMetadata": {
      "byteLimit": 2048000,
      "rowLimit": 10000
     },
     "inputWidgets": {},
     "nuid": "c0893fdc-e7be-422b-ac1e-cd2a8cf6da91",
     "showTitle": false,
     "title": ""
    }
   },
   "outputs": [],
   "source": [
    "#connect to blob storage\n",
    "storage_account_name = \"your_storage\"\n",
    "storage_account_access_key = \"your_key\"\n",
    "#configure\n",
    "spark.conf.set(f\"fs.azure.account.key.{storage_account_name}.blob.core.windows.net\", storage_account_access_key)"
   ]
  },
  {
   "cell_type": "code",
   "execution_count": null,
   "metadata": {
    "application/vnd.databricks.v1+cell": {
     "cellMetadata": {
      "byteLimit": 2048000,
      "rowLimit": 10000
     },
     "inputWidgets": {},
     "nuid": "cd0ce375-7f1f-43b0-aa77-2383bf05a7e7",
     "showTitle": false,
     "title": ""
    }
   },
   "outputs": [],
   "source": [
    "#check connection\n",
    "try:\n",
    "    files = dbutils.fs.ls(f\"wasbs://bronze@{storage_account_name}.blob.core.windows.net/\")\n",
    "    print(\"Connection to Bronze layer successful. Files in container:\")\n",
    "    for file in files:\n",
    "        print(file.name)\n",
    "except Exception as e:\n",
    "    print(\"Connection failed:\", str(e))"
   ]
  },
  {
   "cell_type": "code",
   "execution_count": null,
   "metadata": {
    "application/vnd.databricks.v1+cell": {
     "cellMetadata": {
      "byteLimit": 2048000,
      "rowLimit": 10000
     },
     "inputWidgets": {},
     "nuid": "45dbbd5b-752a-4dfa-bb0d-e0ec20caea35",
     "showTitle": false,
     "title": ""
    }
   },
   "outputs": [],
   "source": [
    "#check connection\n",
    "try:\n",
    "    files = dbutils.fs.ls(f\"wasbs://silver@{storage_account_name}.blob.core.windows.net/\")\n",
    "    print(\"Connection to Silver layer successful. Files in container:\")\n",
    "    for file in files:\n",
    "        print(file.name)\n",
    "except Exception as e:\n",
    "    print(\"Connection failed:\", str(e))"
   ]
  },
  {
   "cell_type": "markdown",
   "metadata": {
    "application/vnd.databricks.v1+cell": {
     "cellMetadata": {
      "byteLimit": 2048000,
      "rowLimit": 10000
     },
     "inputWidgets": {},
     "nuid": "df32f726-531c-4b83-b987-d23a04ab8480",
     "showTitle": false,
     "title": ""
    }
   },
   "source": [
    "### Transformations"
   ]
  },
  {
   "cell_type": "code",
   "execution_count": null,
   "metadata": {
    "application/vnd.databricks.v1+cell": {
     "cellMetadata": {
      "byteLimit": 2048000,
      "rowLimit": 10000
     },
     "inputWidgets": {},
     "nuid": "33ea9b9d-fa70-4bba-bc76-e29483970d32",
     "showTitle": false,
     "title": ""
    }
   },
   "outputs": [],
   "source": [
    "# import necessary packages for creating Spark session, schema def, and transform\n",
    "from pyspark.sql.types import StructType, StructField, StringType, DoubleType, LongType, MapType, ArrayType, IntegerType\n",
    "from pyspark.sql.functions import *"
   ]
  },
  {
   "cell_type": "markdown",
   "metadata": {
    "application/vnd.databricks.v1+cell": {
     "cellMetadata": {
      "byteLimit": 2048000,
      "rowLimit": 10000
     },
     "inputWidgets": {},
     "nuid": "ee5c80e3-36a4-4a49-8ef3-3639daee7cc0",
     "showTitle": false,
     "title": ""
    }
   },
   "source": [
    "#### Schemas"
   ]
  },
  {
   "cell_type": "code",
   "execution_count": null,
   "metadata": {
    "application/vnd.databricks.v1+cell": {
     "cellMetadata": {
      "byteLimit": 2048000,
      "rowLimit": 10000
     },
     "inputWidgets": {},
     "nuid": "6bfbf3ce-41a6-461b-9747-0188bce2f104",
     "showTitle": false,
     "title": ""
    }
   },
   "outputs": [],
   "source": [
    "# current weather\n",
    "# coordinates (nested object)\n",
    "coord_schema = StructType([\n",
    "    StructField(\"lon\", DoubleType(), False),\n",
    "    StructField(\"lat\", DoubleType(), False)\n",
    "])\n",
    "\n",
    "# weather (array within top-level object)\n",
    "weather_schema = ArrayType(StructType([\n",
    "    StructField(\"id\", IntegerType(), False),\n",
    "    StructField(\"main\", StringType(), True),\n",
    "    StructField(\"description\", StringType(), True),\n",
    "    StructField(\"icon\", StringType(), True)\n",
    "]), True)\n",
    "\n",
    "# main (nested object)\n",
    "main_schema = StructType([\n",
    "    StructField(\"temp\", DoubleType(), False),\n",
    "    StructField(\"feels_like\", DoubleType(), True),\n",
    "    StructField(\"temp_min\", DoubleType(), True),\n",
    "    StructField(\"temp_max\", DoubleType(), True),\n",
    "    StructField(\"pressure\", IntegerType(), True),\n",
    "    StructField(\"humidity\", IntegerType(), True),\n",
    "    StructField(\"sea_level\", IntegerType(), True),\n",
    "    StructField(\"grnd_level\", IntegerType(), True)\n",
    "])\n",
    "\n",
    "# wind (nested object)\n",
    "wind_schema = StructType([\n",
    "    StructField(\"speed\", DoubleType(), True),\n",
    "    StructField(\"deg\", IntegerType(), True),\n",
    "    StructField(\"gust\", DoubleType(), True)\n",
    "])\n",
    "\n",
    "# rain (nested object) with added 3h field\n",
    "rain_schema = StructType([\n",
    "    StructField(\"1h\", DoubleType(), True),\n",
    "    StructField(\"3h\", DoubleType(), True)  # added 3h field\n",
    "])\n",
    "\n",
    "# snow (nested object) with 1h and 3h fields\n",
    "snow_schema = StructType([\n",
    "    StructField(\"1h\", DoubleType(), True),\n",
    "    StructField(\"3h\", DoubleType(), True)\n",
    "])\n",
    "\n",
    "# clouds (nested object)\n",
    "cloud_schema = StructType([\n",
    "    StructField(\"all\", IntegerType(), True)\n",
    "])\n",
    "\n",
    "# sys (nested object) with additional fields\n",
    "sys_schema = StructType([\n",
    "    StructField(\"type\", IntegerType(), True),\n",
    "    StructField(\"id\", IntegerType(), False),\n",
    "    StructField(\"message\", DoubleType(), True),  # added message field\n",
    "    StructField(\"country\", StringType(), True),\n",
    "    StructField(\"sunrise\", LongType(), True),\n",
    "    StructField(\"sunset\", LongType(), True)\n",
    "])\n",
    "\n",
    "# final schema with all added fields\n",
    "weather_curr_schema = StructType([\n",
    "    StructField(\"coord\", coord_schema, True),\n",
    "    StructField(\"weather\", weather_schema , True),\n",
    "    StructField(\"base\", StringType(), True),\n",
    "    StructField(\"main\", main_schema, True),\n",
    "    StructField(\"visibility\", IntegerType(), True),\n",
    "    StructField(\"wind\", wind_schema, True),\n",
    "    StructField(\"rain\", rain_schema, True),\n",
    "    StructField(\"snow\", snow_schema, True),  # added snow object\n",
    "    StructField(\"clouds\", cloud_schema, True),\n",
    "    StructField(\"dt\", LongType(), True),\n",
    "    StructField(\"sys\", sys_schema, True),\n",
    "    StructField(\"timezone\", IntegerType(), True),\n",
    "    StructField(\"id\", IntegerType(), False),\n",
    "    StructField(\"name\", StringType(), True),\n",
    "    StructField(\"cod\", IntegerType(), True)\n",
    "])\n"
   ]
  },
  {
   "cell_type": "code",
   "execution_count": null,
   "metadata": {
    "application/vnd.databricks.v1+cell": {
     "cellMetadata": {
      "byteLimit": 2048000,
      "rowLimit": 10000
     },
     "inputWidgets": {},
     "nuid": "6a39acb1-a932-49d5-ab6f-73cea987fe05",
     "showTitle": false,
     "title": ""
    }
   },
   "outputs": [],
   "source": [
    "# define schema for 3 hr forecast api\n",
    "\n",
    "# list.main schema (nested object within list)\n",
    "list_main_schema = StructType([\n",
    "    StructField(\"temp\", DoubleType(), False),\n",
    "    StructField(\"feels_like\", DoubleType(), True),\n",
    "    StructField(\"temp_min\", DoubleType(), True),\n",
    "    StructField(\"temp_max\", DoubleType(), True),\n",
    "    StructField(\"pressure\", IntegerType(), True),\n",
    "    StructField(\"sea_level\", IntegerType(), True),\n",
    "    StructField(\"grnd_level\", IntegerType(), True),\n",
    "    StructField(\"humidity\", IntegerType(), True),\n",
    "    StructField(\"temp_kf\", DoubleType(), True)\n",
    "])\n",
    "\n",
    "# list.weather (nested array within list containing an object)\n",
    "weather_schema = ArrayType(StructType([\n",
    "    StructField(\"id\", IntegerType(), True),\n",
    "    StructField(\"main\", StringType(), True),\n",
    "    StructField(\"description\", StringType(), True),\n",
    "    StructField(\"icon\", StringType(), True)\n",
    "]))\n",
    "\n",
    "# list.clouds schema (nested object within list)\n",
    "clouds_schema = StructType([\n",
    "    StructField(\"all\", IntegerType(), True)\n",
    "])\n",
    "\n",
    "# list.wind schema (nested object within list)\n",
    "wind_schema = StructType([\n",
    "    StructField(\"speed\", DoubleType(), True),\n",
    "    StructField(\"deg\", IntegerType(), True),\n",
    "    StructField(\"gust\", DoubleType(), True)\n",
    "])\n",
    "\n",
    "# list.rain schema (nested object within list)\n",
    "rain_schema = StructType([\n",
    "    StructField(\"3h\", DoubleType(), True)\n",
    "])\n",
    "\n",
    "# list.sys schema (nested object within list)\n",
    "sys_schema = StructType([\n",
    "    StructField(\"pod\", StringType(), True)\n",
    "])\n",
    "\n",
    "# list schema within main object (array)\n",
    "list_schema = ArrayType(StructType([\n",
    "    StructField(\"dt\", LongType(), True),\n",
    "    StructField(\"main\", main_schema, True),\n",
    "    StructField(\"weather\", weather_schema, True),\n",
    "    StructField(\"clouds\", clouds_schema, True),\n",
    "    StructField(\"wind\", wind_schema, True),\n",
    "    StructField(\"visibility\", IntegerType(), True),\n",
    "    StructField(\"pop\", DoubleType(), True),\n",
    "    StructField(\"rain\", rain_schema, True),\n",
    "    StructField(\"sys\", sys_schema, True),\n",
    "    StructField(\"dt_txt\", StringType(), True)\n",
    "]))\n",
    "\n",
    "# Define the schema for the \"coord\" field inside \"city\"\n",
    "coord_schema = StructType([\n",
    "    StructField(\"lat\", DoubleType(), True),\n",
    "    StructField(\"lon\", DoubleType(), True)\n",
    "])\n",
    "\n",
    "# Define the schema for the \"city\" field\n",
    "city_schema = StructType([\n",
    "    StructField(\"id\", IntegerType(), True),\n",
    "    StructField(\"name\", StringType(), True),\n",
    "    StructField(\"coord\", coord_schema, True),\n",
    "    StructField(\"country\", StringType(), True),\n",
    "    StructField(\"population\", IntegerType(), True),\n",
    "    StructField(\"timezone\", IntegerType(), True),\n",
    "    StructField(\"sunrise\", LongType(), True),\n",
    "    StructField(\"sunset\", LongType(), True)\n",
    "])\n",
    "\n",
    "# Main schema\n",
    "weather_3_hr_schema = StructType([\n",
    "    StructField(\"cod\", StringType(), True),\n",
    "    StructField(\"message\", IntegerType(), True),\n",
    "    StructField(\"cnt\", IntegerType(), True),\n",
    "    StructField(\"list\", list_schema, True),\n",
    "    StructField(\"city\", city_schema, True)\n",
    "])"
   ]
  },
  {
   "cell_type": "markdown",
   "metadata": {
    "application/vnd.databricks.v1+cell": {
     "cellMetadata": {
      "byteLimit": 2048000,
      "rowLimit": 10000
     },
     "inputWidgets": {},
     "nuid": "d4508aad-b6c5-46b0-95cf-01e93f62608f",
     "showTitle": false,
     "title": ""
    }
   },
   "source": [
    "#### Load Datasets"
   ]
  },
  {
   "cell_type": "code",
   "execution_count": null,
   "metadata": {
    "application/vnd.databricks.v1+cell": {
     "cellMetadata": {
      "byteLimit": 2048000,
      "rowLimit": 10000
     },
     "inputWidgets": {},
     "nuid": "92732274-1faf-4da8-92a2-c30bb630cdf1",
     "showTitle": false,
     "title": ""
    }
   },
   "outputs": [],
   "source": [
    "# fetch geocode json --> parse and read into spark df (do NOT read this as a stream)\n",
    "geocode_path = f\"wasbs://bronze@{storage_account_name}.blob.core.windows.net/geocode/Batch-GeocodingAPI/\"\n",
    "geocode_df = spark.read.json(geocode_path)"
   ]
  },
  {
   "cell_type": "code",
   "execution_count": null,
   "metadata": {
    "application/vnd.databricks.v1+cell": {
     "cellMetadata": {
      "byteLimit": 2048000,
      "rowLimit": 10000
     },
     "inputWidgets": {},
     "nuid": "ca098e69-722b-4b9d-be08-2f805567a933",
     "showTitle": false,
     "title": ""
    }
   },
   "outputs": [],
   "source": [
    "#STATIC TEST\n",
    "\n",
    "\"\"\"\n",
    "weather_curr_path = f\"wasbs://bronze@{storage_account_name}.blob.core.windows.net/weather/RT-CurrentAPI/\"\n",
    "files = dbutils.fs.ls(weather_curr_path)\n",
    "\n",
    "# Print file names\n",
    "for file in files:\n",
    "    print(file.name)\n",
    "\n",
    "weather_curr_df = spark.read.schema(weather_curr_schema).json(weather_curr_path)\n",
    "\"\"\""
   ]
  },
  {
   "cell_type": "code",
   "execution_count": null,
   "metadata": {
    "application/vnd.databricks.v1+cell": {
     "cellMetadata": {
      "byteLimit": 2048000,
      "rowLimit": 10000
     },
     "inputWidgets": {},
     "nuid": "53a1036d-6852-4acc-ace3-8efa0e38bef7",
     "showTitle": false,
     "title": ""
    }
   },
   "outputs": [],
   "source": [
    "# fetch current weather json --> parse and read into spark df\n",
    "weather_curr_path = f\"wasbs://bronze@{storage_account_name}.blob.core.windows.net/weather/RT-CurrentAPI/\"\n",
    "weather_curr_df = spark.readStream.schema(weather_curr_schema).json(weather_curr_path)"
   ]
  },
  {
   "cell_type": "code",
   "execution_count": null,
   "metadata": {
    "application/vnd.databricks.v1+cell": {
     "cellMetadata": {
      "byteLimit": 2048000,
      "rowLimit": 10000
     },
     "inputWidgets": {},
     "nuid": "118be65b-f1d0-48c0-a289-c4962bc6bd2d",
     "showTitle": false,
     "title": ""
    }
   },
   "outputs": [],
   "source": [
    "# fetch 3 hr forecast json --> parse and read into spark df\n",
    "#weather_3_hr_path = f\"wasbs://bronze@{storage_account_name}.blob.core.windows.net/weather/RT-3HrForecastAPI/\"\n",
    "#weather_3_hr_df = spark.readStream.schema(weather_3_hr_schema).json(weather_3_hr_path)"
   ]
  },
  {
   "cell_type": "markdown",
   "metadata": {
    "application/vnd.databricks.v1+cell": {
     "cellMetadata": {
      "byteLimit": 2048000,
      "rowLimit": 10000
     },
     "inputWidgets": {},
     "nuid": "7552e06c-2ebb-46e3-afce-2c595a99de04",
     "showTitle": false,
     "title": ""
    }
   },
   "source": [
    "#### Functions"
   ]
  },
  {
   "cell_type": "code",
   "execution_count": null,
   "metadata": {
    "application/vnd.databricks.v1+cell": {
     "cellMetadata": {
      "byteLimit": 2048000,
      "rowLimit": 10000
     },
     "inputWidgets": {},
     "nuid": "473d14e5-c7b6-41a4-a52c-5d561abe7c35",
     "showTitle": false,
     "title": ""
    }
   },
   "outputs": [],
   "source": [
    "#temperature\n",
    "def to_celcius(column):\n",
    "  return round(column - 273.15, 2)\n",
    "\n",
    "def to_fahrenheit(column):\n",
    "  return round((column * 9/5) - 273.15, 2)"
   ]
  },
  {
   "cell_type": "code",
   "execution_count": null,
   "metadata": {
    "application/vnd.databricks.v1+cell": {
     "cellMetadata": {
      "byteLimit": 2048000,
      "rowLimit": 10000
     },
     "inputWidgets": {},
     "nuid": "e9521d6d-55f1-4efd-90c0-f7881056dc36",
     "showTitle": false,
     "title": ""
    }
   },
   "outputs": [],
   "source": [
    "#time\n",
    "def secs_to_hrs(column):\n",
    "    return round(column/3600, 2)"
   ]
  },
  {
   "cell_type": "markdown",
   "metadata": {
    "application/vnd.databricks.v1+cell": {
     "cellMetadata": {
      "byteLimit": 2048000,
      "rowLimit": 10000
     },
     "inputWidgets": {},
     "nuid": "f033faca-aea3-483b-bb55-a12b2cc8bd8a",
     "showTitle": false,
     "title": ""
    }
   },
   "source": [
    "#### Geocode Transformations"
   ]
  },
  {
   "cell_type": "code",
   "execution_count": null,
   "metadata": {
    "application/vnd.databricks.v1+cell": {
     "cellMetadata": {
      "byteLimit": 2048000,
      "rowLimit": 10000
     },
     "inputWidgets": {},
     "nuid": "b599da60-cc79-458a-9c65-8853b803a060",
     "showTitle": false,
     "title": ""
    }
   },
   "outputs": [],
   "source": [
    "# drop local_names\n",
    "# convert lat and lon to 2 decimals floor div\n",
    "geocode_df = geocode_df.withColumnRenamed(\"name\", \"city\") \\\n",
    "                       .withColumn(\"lat\", round(floor(col(\"lat\") * 100) / 100, 2)) \\\n",
    "                       .withColumn(\"lon\", round(floor(col(\"lon\") * 100) / 100, 2)) \\\n",
    "                       .drop(\"local_names\")"
   ]
  },
  {
   "cell_type": "code",
   "execution_count": null,
   "metadata": {
    "application/vnd.databricks.v1+cell": {
     "cellMetadata": {
      "byteLimit": 2048000,
      "rowLimit": 10000
     },
     "inputWidgets": {},
     "nuid": "6a79cc7c-c2c2-468a-9b18-14f19147a595",
     "showTitle": false,
     "title": ""
    }
   },
   "outputs": [],
   "source": [
    "geocode_df.show()"
   ]
  },
  {
   "cell_type": "markdown",
   "metadata": {
    "application/vnd.databricks.v1+cell": {
     "cellMetadata": {
      "byteLimit": 2048000,
      "rowLimit": 10000
     },
     "inputWidgets": {},
     "nuid": "1abdc260-7902-404a-85b0-e790e7eefa5d",
     "showTitle": false,
     "title": ""
    }
   },
   "source": [
    "#### Current Weather Transformations"
   ]
  },
  {
   "cell_type": "code",
   "execution_count": null,
   "metadata": {
    "application/vnd.databricks.v1+cell": {
     "cellMetadata": {
      "byteLimit": 2048000,
      "rowLimit": 10000
     },
     "inputWidgets": {},
     "nuid": "2748f85b-52b0-44ab-9f05-b98649017131",
     "showTitle": false,
     "title": ""
    }
   },
   "outputs": [],
   "source": [
    "# flatten coordinates for geocode join\n",
    "# drop empty coordinates object as well as unneeded columns and select all other columns\n",
    "\n",
    "weather_curr_df = weather_curr_df.select(\n",
    "    col(\"coord.lat\").alias(\"lat\"),\n",
    "    col(\"coord.lon\").alias(\"lon\"),\n",
    "    weather_curr_df[\"*\"]\n",
    ").drop(*[\"coord\", \"name\", \"city\", \"weather.element.icon\"])"
   ]
  },
  {
   "cell_type": "code",
   "execution_count": null,
   "metadata": {
    "application/vnd.databricks.v1+cell": {
     "cellMetadata": {
      "byteLimit": 2048000,
      "rowLimit": 10000
     },
     "inputWidgets": {},
     "nuid": "cd1fe1c4-9411-481c-b7c7-5d355d678a3b",
     "showTitle": false,
     "title": ""
    }
   },
   "outputs": [],
   "source": [
    "#explode weather array and drop icons: this creates rows for the elements in the array and you can directly access elements from weather\n",
    "weather_curr_df = weather_curr_df.withColumn(\"weather\", explode(\"weather\"))\n",
    "\n",
    "weather_curr_df = weather_curr_df.select(\n",
    "                                    \"*\",\n",
    "                                    col(\"weather.id\").alias(\"weather_condition_id\"),\n",
    "                                    col(\"weather.main\").alias(\"weather_type\"),\n",
    "                                    col(\"weather.description\").alias(\"weather_description\")\n",
    "                                ) \\\n",
    "                                .drop(\"weather\")\n",
    "                                \n",
    "                                \n"
   ]
  },
  {
   "cell_type": "code",
   "execution_count": null,
   "metadata": {
    "application/vnd.databricks.v1+cell": {
     "cellMetadata": {
      "byteLimit": 2048000,
      "rowLimit": 10000
     },
     "inputWidgets": {},
     "nuid": "cddf0dbc-2c61-4fe4-a034-1a2f8b735958",
     "showTitle": false,
     "title": ""
    }
   },
   "outputs": [],
   "source": [
    "#Kelvin --> C and F for all temperature columns\n",
    "#flatten main structure and drop it\n",
    "\n",
    "weather_curr_df = weather_curr_df.select(\n",
    "                                    \"*\",\n",
    "                                    col(\"main.pressure\").alias(\"pressure\"),\n",
    "                                    col(\"main.humidity\").alias(\"humidity\"),\n",
    "                                    col(\"main.sea_level\").alias(\"sea_level\"),\n",
    "                                    col(\"main.grnd_level\").alias(\"grnd_level\")\n",
    "                                ) \\\n",
    "                                .withColumn(\"temp_Celsius\", to_celcius(col(\"main.temp\"))) \\\n",
    "                                .withColumn(\"temp_Fahrenheit\", to_fahrenheit(col(\"main.temp\"))) \\\n",
    "                                .withColumn(\"feels_like_Celcius\", to_celcius(col(\"main.feels_like\"))) \\\n",
    "                                .withColumn(\"feels_like_Fahrenheit\", to_fahrenheit(col(\"main.feels_like\"))) \\\n",
    "                                .withColumn(\"temp_min_Celcius\", to_celcius(col(\"main.temp_min\"))) \\\n",
    "                                .withColumn(\"temp_min_Fahrenheit\", to_fahrenheit(col(\"main.temp_min\"))) \\\n",
    "                                .withColumn(\"temp_max_Celcius\", to_celcius(col(\"main.temp_max\"))) \\\n",
    "                                .withColumn(\"temp_max_Fahrenheit\", to_fahrenheit(col(\"main.temp_max\"))) \\\n",
    "                                .drop(\"main\")\n"
   ]
  },
  {
   "cell_type": "code",
   "execution_count": null,
   "metadata": {
    "application/vnd.databricks.v1+cell": {
     "cellMetadata": {
      "byteLimit": 2048000,
      "rowLimit": 10000
     },
     "inputWidgets": {},
     "nuid": "6ea3c4a0-aa8a-4e75-99ac-9473405d5b73",
     "showTitle": false,
     "title": ""
    }
   },
   "outputs": [],
   "source": [
    "#flatten wind/rain/clouds nested structure\n",
    "weather_curr_df = weather_curr_df.select(\n",
    "                                    \"*\",\n",
    "                                    col(\"wind.speed\").alias(\"wind_speed\"),\n",
    "                                    col(\"wind.deg\").alias(\"wind_direction\"),\n",
    "                                    col(\"wind.gust\").alias(\"wind_burst\"),\n",
    "                                    col(\"rain.1h\").alias(\"rain_1h\"),\n",
    "                                    col(\"rain.3h\").alias(\"rain_3h\"),\n",
    "                                    col(\"snow.1h\").alias(\"snow_1h\"),\n",
    "                                    col(\"snow.3h\").alias(\"snow_3h\"),\n",
    "                                    col(\"clouds.all\").alias(\"cloudiness_%\"),\n",
    "                                ) \\\n",
    "                                .drop(*[\"wind\", \"rain\", \"clouds\", \"snow\"])"
   ]
  },
  {
   "cell_type": "code",
   "execution_count": null,
   "metadata": {
    "application/vnd.databricks.v1+cell": {
     "cellMetadata": {
      "byteLimit": 2048000,
      "rowLimit": 10000
     },
     "inputWidgets": {},
     "nuid": "3865989c-8f60-41c4-ad2b-db93d0581985",
     "showTitle": false,
     "title": ""
    }
   },
   "outputs": [],
   "source": [
    "# unix timestamps (seconds since 1970) --> dt\n",
    "# utc offset in unix seconds --> to hours col, UTC+hrs col (convert to string first)\n",
    "weather_curr_df = weather_curr_df.withColumn(\"datetime\", from_unixtime(col(\"dt\"))) \\\n",
    "                                 .withColumn(\"sunrise\", from_unixtime(col(\"sys.sunrise\"))) \\\n",
    "                                 .withColumn(\"sunset\", from_unixtime(col(\"sys.sunset\"))) \\\n",
    "                                 .withColumn(\"utc_offset\", secs_to_hrs(col(\"timezone\"))) \\\n",
    "                                 .withColumn(\n",
    "                                     \"utc_offset_label\",\n",
    "                                     concat(lit(\"UTC+\"), secs_to_hrs(col(\"timezone\")).cast(\"string\"))\n",
    "                                     ) \\\n",
    "                                 .drop(\"sys\")"
   ]
  },
  {
   "cell_type": "code",
   "execution_count": null,
   "metadata": {
    "application/vnd.databricks.v1+cell": {
     "cellMetadata": {
      "byteLimit": 2048000,
      "rowLimit": 10000
     },
     "inputWidgets": {},
     "nuid": "f0b8ee8f-2dca-4501-a4ae-1d65da8c8d09",
     "showTitle": false,
     "title": ""
    }
   },
   "outputs": [],
   "source": [
    "#prepare for partitioning by date\n",
    "weather_curr_df = weather_curr_df.withColumn(\"date\", to_date(col(\"datetime\")))"
   ]
  },
  {
   "cell_type": "markdown",
   "metadata": {
    "application/vnd.databricks.v1+cell": {
     "cellMetadata": {
      "byteLimit": 2048000,
      "rowLimit": 10000
     },
     "inputWidgets": {},
     "nuid": "8965977a-d6b5-4b5e-a803-5e41331545a4",
     "showTitle": false,
     "title": ""
    }
   },
   "source": [
    "#### 3-Hr Forecast Transformations"
   ]
  },
  {
   "cell_type": "markdown",
   "metadata": {
    "application/vnd.databricks.v1+cell": {
     "cellMetadata": {
      "byteLimit": 2048000,
      "rowLimit": 10000
     },
     "inputWidgets": {},
     "nuid": "e7a81493-9dc0-4e52-bddf-ca7eb4a6924b",
     "showTitle": false,
     "title": ""
    }
   },
   "source": [
    "#### Fast-Slow Joins"
   ]
  },
  {
   "cell_type": "code",
   "execution_count": null,
   "metadata": {
    "application/vnd.databricks.v1+cell": {
     "cellMetadata": {
      "byteLimit": 2048000,
      "rowLimit": 10000
     },
     "inputWidgets": {},
     "nuid": "d7c47835-cd65-4073-8f83-3b38d2d85a72",
     "showTitle": false,
     "title": ""
    }
   },
   "outputs": [],
   "source": [
    "# enrich current weather with geocode\n",
    "# geocode can be broadcast joined for query optimization: copy it to all worker nodes since its a small static dataset\n",
    "# left join for enrichment\n",
    "enriched_curr_weather_df = weather_curr_df.join(\n",
    "    broadcast(geocode_df),\n",
    "    on = [\"lat\", \"lon\"],\n",
    "    how = \"left\"\n",
    "    )\n"
   ]
  },
  {
   "cell_type": "code",
   "execution_count": null,
   "metadata": {
    "application/vnd.databricks.v1+cell": {
     "cellMetadata": {
      "byteLimit": 2048000,
      "rowLimit": 10000
     },
     "inputWidgets": {},
     "nuid": "1420ae0b-cbe6-4376-a2b9-0765bd0182d0",
     "showTitle": false,
     "title": ""
    }
   },
   "outputs": [],
   "source": [
    "enriched_curr_weather_df.printSchema()"
   ]
  },
  {
   "cell_type": "markdown",
   "metadata": {
    "application/vnd.databricks.v1+cell": {
     "cellMetadata": {
      "byteLimit": 2048000,
      "rowLimit": 10000
     },
     "inputWidgets": {},
     "nuid": "61e37d04-4fa3-4d74-8dcf-9a4352aa2779",
     "showTitle": false,
     "title": ""
    }
   },
   "source": [
    "### Write to Silver\n"
   ]
  },
  {
   "cell_type": "markdown",
   "metadata": {
    "application/vnd.databricks.v1+cell": {
     "cellMetadata": {
      "byteLimit": 2048000,
      "rowLimit": 10000
     },
     "inputWidgets": {},
     "nuid": "887af8fb-4c58-4e8d-844f-6b19e0874653",
     "showTitle": false,
     "title": ""
    }
   },
   "source": [
    "#### Static Parquet Output"
   ]
  },
  {
   "cell_type": "code",
   "execution_count": null,
   "metadata": {
    "application/vnd.databricks.v1+cell": {
     "cellMetadata": {
      "byteLimit": 2048000,
      "rowLimit": 10000
     },
     "inputWidgets": {},
     "nuid": "59707f5e-d5d0-428b-8c3c-4a3bd1bde95e",
     "showTitle": false,
     "title": ""
    }
   },
   "outputs": [],
   "source": [
    "\"\"\"\n",
    "\n",
    "#manual\n",
    "weather_curr_destination = f\"wasbs://silver@{storage_account_name}.blob.core.windows.net/enriched-weather/current/\"\n",
    "enriched_curr_weather_df.write.mode(\"overwrite\").partitionBy(\"date\").parquet(weather_curr_destination)\n",
    "\n",
    "files = dbutils.fs.ls(weather_curr_destination)\n",
    "for file in files:\n",
    "    print(file.name)\n",
    "\n",
    "\"\"\""
   ]
  },
  {
   "cell_type": "markdown",
   "metadata": {
    "application/vnd.databricks.v1+cell": {
     "cellMetadata": {
      "byteLimit": 2048000,
      "rowLimit": 10000
     },
     "inputWidgets": {},
     "nuid": "94e18826-40f8-43be-8c70-4feb4022df91",
     "showTitle": false,
     "title": ""
    }
   },
   "source": [
    "#### Stream"
   ]
  },
  {
   "cell_type": "code",
   "execution_count": null,
   "metadata": {
    "application/vnd.databricks.v1+cell": {
     "cellMetadata": {
      "byteLimit": 2048000,
      "rowLimit": 10000
     },
     "inputWidgets": {},
     "nuid": "174b4b9c-1bd9-4827-8ea1-810d3a1b96cd",
     "showTitle": false,
     "title": ""
    }
   },
   "outputs": [],
   "source": [
    "#current weather\n",
    "#checkpoints to take note of state and metadata in case of failures and restart\n",
    "#partition by date, not datetime (need to extract)\n",
    "\n",
    "weather_curr_destination = f\"wasbs://silver@{storage_account_name}.blob.core.windows.net/enriched-weather/current/\"\n",
    "weather_curr_checkpoint = f\"wasbs://silver@{storage_account_name}.blob.core.windows.net/checkpoints/enriched-weather-checkpoints/current-checkpoints/\"\n",
    "\n",
    "# Explicitly print out the paths to verify they are correct\n",
    "print(\"Weather Current Destination Path:\", weather_curr_destination)\n",
    "print(\"Weather Current Checkpoint Path:\", weather_curr_checkpoint)\n",
    "\n",
    "write_weather_current = enriched_curr_weather_df.writeStream \\\n",
    "    .format(\"parquet\") \\\n",
    "    .partitionBy(\"date\") \\\n",
    "    .option(\"path\", weather_curr_destination) \\\n",
    "    .option(\"checkpointLocation\", weather_curr_checkpoint) \\\n",
    "    .trigger(processingTime=\"10 minutes\") \\\n",
    "    .start()\n",
    "\n",
    "#keep the stream active until manual exit\n",
    "write_weather_current.awaitTermination()"
   ]
  }
 ],
 "metadata": {
  "application/vnd.databricks.v1+notebook": {
   "dashboards": [],
   "environmentMetadata": null,
   "language": "python",
   "notebookMetadata": {
    "mostRecentlyExecutedCommandWithImplicitDF": {
     "commandId": 855847447117796,
     "dataframes": [
      "_sqldf"
     ]
    },
    "pythonIndentUnit": 4
   },
   "notebookName": "Transformation_Silver",
   "widgets": {}
  },
  "language_info": {
   "name": "python"
  }
 },
 "nbformat": 4,
 "nbformat_minor": 0
}
