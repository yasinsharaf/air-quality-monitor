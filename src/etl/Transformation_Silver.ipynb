{
 "cells": [
  {
   "cell_type": "markdown",
   "metadata": {
    "application/vnd.databricks.v1+cell": {
     "cellMetadata": {},
     "inputWidgets": {},
     "nuid": "47a4e1af-aac8-4949-bfa1-3b695520d28d",
     "showTitle": false,
     "title": ""
    }
   },
   "source": [
    "### Connections"
   ]
  },
  {
   "cell_type": "code",
   "execution_count": null,
   "metadata": {
    "application/vnd.databricks.v1+cell": {
     "cellMetadata": {
      "byteLimit": 2048000,
      "rowLimit": 10000
     },
     "inputWidgets": {},
     "nuid": "c0893fdc-e7be-422b-ac1e-cd2a8cf6da91",
     "showTitle": false,
     "title": ""
    }
   },
   "outputs": [],
   "source": [
    "#connect to blob storage\n",
    "storage_account_name = \"your-account-name\"\n",
    "storage_account_access_key = \"your-access-key\"\n",
    "\n",
    "#configure\n",
    "spark.conf.set(f\"fs.azure.account.key.{storage_account_name}.blob.core.windows.net\", storage_account_access_key)"
   ]
  },
  {
   "cell_type": "code",
   "execution_count": null,
   "metadata": {
    "application/vnd.databricks.v1+cell": {
     "cellMetadata": {
      "byteLimit": 2048000,
      "rowLimit": 10000
     },
     "inputWidgets": {},
     "nuid": "cd0ce375-7f1f-43b0-aa77-2383bf05a7e7",
     "showTitle": false,
     "title": ""
    }
   },
   "outputs": [
    {
     "name": "stdout",
     "output_type": "stream",
     "text": [
      "Connection successful. Files in container:\n",
      "geocode/\n",
      "pollution/\n",
      "weather/\n"
     ]
    }
   ],
   "source": [
    "#check connection\n",
    "try:\n",
    "    files = dbutils.fs.ls(f\"wasbs://bronze@{storage_account_name}.blob.core.windows.net/\")\n",
    "    print(\"Connection successful. Files in container:\")\n",
    "    for file in files:\n",
    "        print(file.name)\n",
    "except Exception as e:\n",
    "    print(\"Connection failed:\", str(e))"
   ]
  },
  {
   "cell_type": "markdown",
   "metadata": {
    "application/vnd.databricks.v1+cell": {
     "cellMetadata": {},
     "inputWidgets": {},
     "nuid": "df32f726-531c-4b83-b987-d23a04ab8480",
     "showTitle": false,
     "title": ""
    }
   },
   "source": [
    "### Transformations"
   ]
  },
  {
   "cell_type": "code",
   "execution_count": null,
   "metadata": {
    "application/vnd.databricks.v1+cell": {
     "cellMetadata": {
      "byteLimit": 2048000,
      "rowLimit": 10000
     },
     "inputWidgets": {},
     "nuid": "33ea9b9d-fa70-4bba-bc76-e29483970d32",
     "showTitle": false,
     "title": ""
    }
   },
   "outputs": [],
   "source": [
    "# import necessary packages for creating Spark session, schema def, and transform\n",
    "from pyspark.sql import SparkSession\n",
    "from pyspark.sql.types import StructType, StructField, StringType, DoubleType, LongType, MapType, ArrayType, IntegerType\n",
    "from pyspark.sql.functions import col, to_timestamp, when, broadcast"
   ]
  },
  {
   "cell_type": "markdown",
   "metadata": {
    "application/vnd.databricks.v1+cell": {
     "cellMetadata": {},
     "inputWidgets": {},
     "nuid": "ee5c80e3-36a4-4a49-8ef3-3639daee7cc0",
     "showTitle": false,
     "title": ""
    }
   },
   "source": [
    "#### Schemas"
   ]
  },
  {
   "cell_type": "code",
   "execution_count": null,
   "metadata": {
    "application/vnd.databricks.v1+cell": {
     "cellMetadata": {
      "byteLimit": 2048000,
      "rowLimit": 10000
     },
     "inputWidgets": {},
     "nuid": "db34978d-59b9-457c-827c-76ebb1a47aff",
     "showTitle": false,
     "title": ""
    }
   },
   "outputs": [],
   "source": [
    "#define schema. Nullable should be True for values that can be null\n",
    "#local_names can have varying amounts of languages and columns, ascii vals, etc\n",
    "#local_names is a map (kv pair) and both its k and v are strings\n",
    "geocode_schema = StructType([\n",
    "    StructField(\"name\", StringType(), False),\n",
    "    StructField(\"local_names\", MapType(StringType(), StringType()), True),\n",
    "    StructField(\"lat\", DoubleType(), False),\n",
    "    StructField(\"lon\", DoubleType(), False),\n",
    "    StructField(\"country\", StringType(), False),\n",
    "    StructField(\"state\", StringType(), True),\n",
    "])"
   ]
  },
  {
   "cell_type": "code",
   "execution_count": null,
   "metadata": {
    "application/vnd.databricks.v1+cell": {
     "cellMetadata": {
      "byteLimit": 2048000,
      "rowLimit": 10000
     },
     "inputWidgets": {},
     "nuid": "6bfbf3ce-41a6-461b-9747-0188bce2f104",
     "showTitle": false,
     "title": ""
    }
   },
   "outputs": [],
   "source": [
    "#set crucial keys to nullable = false, such as IDs, coordinates, and actual temperature\n",
    "#nested StructTypes are for nested json object literals\n",
    "\n",
    "#coordinates (nested object)\n",
    "coord_schema = StructType([\n",
    "        StructField(\"lon\", DoubleType(), False),\n",
    "        StructField(\"lat\", DoubleType(), False)\n",
    "    ])\n",
    "\n",
    "#weather (array within top-level object)\n",
    "weather_schema = ArrayType(StructType([\n",
    "        StructField(\"id\", IntegerType(), False),\n",
    "        StructField(\"main\", StringType(), True),\n",
    "        StructField(\"description\", StringType(), True),\n",
    "        StructField(\"icon\", StringType(), True)\n",
    "    ]), True)\n",
    "\n",
    "#main (nested object)\n",
    "main_schema = StructType([\n",
    "        StructField(\"temp\", DoubleType(), False),\n",
    "        StructField(\"feels_like\", DoubleType(), True),\n",
    "        StructField(\"temp_min\", DoubleType(), True),\n",
    "        StructField(\"temp_max\", DoubleType(), True),\n",
    "        StructField(\"pressure\", IntegerType(), True),\n",
    "        StructField(\"humidity\", IntegerType(), True),\n",
    "        StructField(\"sea_level\", IntegerType(), True),\n",
    "        StructField(\"grnd_level\", IntegerType(), True)\n",
    "    ])\n",
    "\n",
    "#wind (nested object)\n",
    "wind_schema = StructType([\n",
    "        StructField(\"speed\", DoubleType(), True),\n",
    "        StructField(\"deg\", IntegerType(), True),\n",
    "        StructField(\"gust\", DoubleType(), True)\n",
    "    ])\n",
    "\n",
    "#rain (nested object)\n",
    "rain_schema = StructType([\n",
    "        StructField(\"1h\", DoubleType(), True)\n",
    "    ])\n",
    "\n",
    "#cloud (nested object)\n",
    "cloud_schema = StructType([\n",
    "        StructField(\"all\", IntegerType(), True)\n",
    "    ])\n",
    "\n",
    "#sys (nested object)\n",
    "sys_schema = StructType([\n",
    "        StructField(\"type\", IntegerType(), True),\n",
    "        StructField(\"id\", IntegerType(), False),\n",
    "        StructField(\"country\", StringType(), True),\n",
    "        StructField(\"sunrise\", LongType(), True),\n",
    "        StructField(\"sunset\", LongType(), True)\n",
    "    ])\n",
    "\n",
    "# final schema\n",
    "weather_curr_schema = StructType([\n",
    "    StructField(\"coord\", coord_schema, True),\n",
    "    StructField(\"weather\", weather_schema , True),\n",
    "    StructField(\"base\", StringType(), True),\n",
    "    StructField(\"main\", main_schema, True),\n",
    "    StructField(\"visibility\", IntegerType(), True),\n",
    "    StructField(\"wind\", wind_schema, True),\n",
    "    StructField(\"rain\", rain_schema, True),\n",
    "    StructField(\"clouds\", cloud_schema, True),\n",
    "    StructField(\"dt\", LongType(), True),\n",
    "    StructField(\"sys\", sys_schema, True),\n",
    "    StructField(\"timezone\", IntegerType(), True),\n",
    "    StructField(\"id\", IntegerType(), False),\n",
    "    StructField(\"name\", StringType(), True),\n",
    "    StructField(\"cod\", IntegerType(), True)\n",
    "])"
   ]
  },
  {
   "cell_type": "code",
   "execution_count": null,
   "metadata": {
    "application/vnd.databricks.v1+cell": {
     "cellMetadata": {
      "byteLimit": 2048000,
      "rowLimit": 10000
     },
     "inputWidgets": {},
     "nuid": "6a39acb1-a932-49d5-ab6f-73cea987fe05",
     "showTitle": false,
     "title": ""
    }
   },
   "outputs": [],
   "source": [
    "# define schema for 3 hr forecast api\n",
    "from pyspark.sql.types import StructType, StructField, StringType, IntegerType, DoubleType, LongType, ArrayType, MapType\n",
    "\n",
    "# list.main schema (nested object within list)\n",
    "list_main_schema = StructType([\n",
    "    StructField(\"temp\", DoubleType(), False),\n",
    "    StructField(\"feels_like\", DoubleType(), True),\n",
    "    StructField(\"temp_min\", DoubleType(), True),\n",
    "    StructField(\"temp_max\", DoubleType(), True),\n",
    "    StructField(\"pressure\", IntegerType(), True),\n",
    "    StructField(\"sea_level\", IntegerType(), True),\n",
    "    StructField(\"grnd_level\", IntegerType(), True),\n",
    "    StructField(\"humidity\", IntegerType(), True),\n",
    "    StructField(\"temp_kf\", DoubleType(), True)\n",
    "])\n",
    "\n",
    "# list.weather (nested array within list containing an object)\n",
    "weather_schema = ArrayType(StructType([\n",
    "    StructField(\"id\", IntegerType(), True),\n",
    "    StructField(\"main\", StringType(), True),\n",
    "    StructField(\"description\", StringType(), True),\n",
    "    StructField(\"icon\", StringType(), True)\n",
    "]))\n",
    "\n",
    "# list.clouds schema (nested object within list)\n",
    "clouds_schema = StructType([\n",
    "    StructField(\"all\", IntegerType(), True)\n",
    "])\n",
    "\n",
    "# list.wind schema (nested object within list)\n",
    "wind_schema = StructType([\n",
    "    StructField(\"speed\", DoubleType(), True),\n",
    "    StructField(\"deg\", IntegerType(), True),\n",
    "    StructField(\"gust\", DoubleType(), True)\n",
    "])\n",
    "\n",
    "# list.rain schema (nested object within list)\n",
    "rain_schema = StructType([\n",
    "    StructField(\"3h\", DoubleType(), True)\n",
    "])\n",
    "\n",
    "# list.sys schema (nested object within list)\n",
    "sys_schema = StructType([\n",
    "    StructField(\"pod\", StringType(), True)\n",
    "])\n",
    "\n",
    "# list schema within main object (array)\n",
    "list_schema = ArrayType(StructType([\n",
    "    StructField(\"dt\", LongType(), True),\n",
    "    StructField(\"main\", main_schema, True),\n",
    "    StructField(\"weather\", weather_schema, True),\n",
    "    StructField(\"clouds\", clouds_schema, True),\n",
    "    StructField(\"wind\", wind_schema, True),\n",
    "    StructField(\"visibility\", IntegerType(), True),\n",
    "    StructField(\"pop\", DoubleType(), True),\n",
    "    StructField(\"rain\", rain_schema, True),\n",
    "    StructField(\"sys\", sys_schema, True),\n",
    "    StructField(\"dt_txt\", StringType(), True)\n",
    "]))\n",
    "\n",
    "# Define the schema for the \"coord\" field inside \"city\"\n",
    "coord_schema = StructType([\n",
    "    StructField(\"lat\", DoubleType(), True),\n",
    "    StructField(\"lon\", DoubleType(), True)\n",
    "])\n",
    "\n",
    "# Define the schema for the \"city\" field\n",
    "city_schema = StructType([\n",
    "    StructField(\"id\", IntegerType(), True),\n",
    "    StructField(\"name\", StringType(), True),\n",
    "    StructField(\"coord\", coord_schema, True),\n",
    "    StructField(\"country\", StringType(), True),\n",
    "    StructField(\"population\", IntegerType(), True),\n",
    "    StructField(\"timezone\", IntegerType(), True),\n",
    "    StructField(\"sunrise\", LongType(), True),\n",
    "    StructField(\"sunset\", LongType(), True)\n",
    "])\n",
    "\n",
    "# Main schema\n",
    "schema = StructType([\n",
    "    StructField(\"cod\", StringType(), True),\n",
    "    StructField(\"message\", IntegerType(), True),\n",
    "    StructField(\"cnt\", IntegerType(), True),\n",
    "    StructField(\"list\", list_schema, True),\n",
    "    StructField(\"city\", city_schema, True)\n",
    "])"
   ]
  },
  {
   "cell_type": "markdown",
   "metadata": {
    "application/vnd.databricks.v1+cell": {
     "cellMetadata": {},
     "inputWidgets": {},
     "nuid": "d4508aad-b6c5-46b0-95cf-01e93f62608f",
     "showTitle": false,
     "title": ""
    }
   },
   "source": [
    "#### Load Datasets"
   ]
  },
  {
   "cell_type": "code",
   "execution_count": null,
   "metadata": {
    "application/vnd.databricks.v1+cell": {
     "cellMetadata": {
      "byteLimit": 2048000,
      "rowLimit": 10000
     },
     "inputWidgets": {},
     "nuid": "92732274-1faf-4da8-92a2-c30bb630cdf1",
     "showTitle": false,
     "title": ""
    }
   },
   "outputs": [],
   "source": [
    "# fetch geocode json --> parse and read into spark df\n",
    "geocode_path = f\"wasbs://bronze@{storage_account_name}.blob.core.windows.net/geocode/Batch-GeocodingAPI/geocoding.json\"\n",
    "geocode_df = spark.readStream.schema(geocode_schema).json(geocode_path)"
   ]
  },
  {
   "cell_type": "code",
   "execution_count": null,
   "metadata": {
    "application/vnd.databricks.v1+cell": {
     "cellMetadata": {
      "byteLimit": 2048000,
      "rowLimit": 10000
     },
     "inputWidgets": {},
     "nuid": "53a1036d-6852-4acc-ace3-8efa0e38bef7",
     "showTitle": false,
     "title": ""
    }
   },
   "outputs": [],
   "source": [
    "# fetch current weather json --> parse and read into spark df\n",
    "weather_curr_path = f\"wasbs://bronze@{storage_account_name}.blob.core.windows.net/weather/RT-CurrentAPI/Modena_current_weather.json\"\n",
    "weather_curr_df = spark.readStream.schema(curr_weather_schema).json(weather_curr_path)"
   ]
  },
  {
   "cell_type": "code",
   "execution_count": null,
   "metadata": {
    "application/vnd.databricks.v1+cell": {
     "cellMetadata": {
      "byteLimit": 2048000,
      "rowLimit": 10000
     },
     "inputWidgets": {},
     "nuid": "118be65b-f1d0-48c0-a289-c4962bc6bd2d",
     "showTitle": false,
     "title": ""
    }
   },
   "outputs": [],
   "source": [
    "# fetch 3 hr forecast json --> parse and read into spark df\n",
    "weather_3_hr_path = f\"wasbs://bronze@{storage_account_name}.blob.core.windows.net/weather/RT-3HrForecastAPI/Modena_three_hour_forecast.json\"\n",
    "weather_3_hr_df = spark.readStream.schema(curr_weather_schema).json(weather_3_hr_path)"
   ]
  },
  {
   "cell_type": "markdown",
   "metadata": {
    "application/vnd.databricks.v1+cell": {
     "cellMetadata": {},
     "inputWidgets": {},
     "nuid": "f033faca-aea3-483b-bb55-a12b2cc8bd8a",
     "showTitle": false,
     "title": ""
    }
   },
   "source": [
    "#### Geocode Transformations"
   ]
  },
  {
   "cell_type": "code",
   "execution_count": null,
   "metadata": {
    "application/vnd.databricks.v1+cell": {
     "cellMetadata": {
      "byteLimit": 2048000,
      "rowLimit": 10000
     },
     "inputWidgets": {},
     "nuid": "b599da60-cc79-458a-9c65-8853b803a060",
     "showTitle": false,
     "title": ""
    }
   },
   "outputs": [],
   "source": [
    "# drop local_names\n",
    "geocode_df = geocode_df.drop(\"local_names\")"
   ]
  },
  {
   "cell_type": "markdown",
   "metadata": {
    "application/vnd.databricks.v1+cell": {
     "cellMetadata": {},
     "inputWidgets": {},
     "nuid": "1abdc260-7902-404a-85b0-e790e7eefa5d",
     "showTitle": false,
     "title": ""
    }
   },
   "source": [
    "#### Current Weather Transformations"
   ]
  },
  {
   "cell_type": "code",
   "execution_count": null,
   "metadata": {
    "application/vnd.databricks.v1+cell": {
     "cellMetadata": {
      "byteLimit": 2048000,
      "rowLimit": 10000
     },
     "inputWidgets": {},
     "nuid": "cddf0dbc-2c61-4fe4-a034-1a2f8b735958",
     "showTitle": false,
     "title": ""
    }
   },
   "outputs": [],
   "source": [
    "# extract lat/lon and flatten + select *, for upcoming join with geocode\n",
    "# order as lat and lon for consistency with geocode\n",
    "# don't need empty coord object so drop\n",
    "\n",
    "weather_curr_df = weather_curr_df.select(\n",
    "    col(\"coord.lat\").alias(\"lat\"),\n",
    "    col(\"coord.lon\").alias(\"lon\"),\n",
    "    weather_curr_df[\"*\"]\n",
    ").drop(\"coord\")"
   ]
  },
  {
   "cell_type": "markdown",
   "metadata": {
    "application/vnd.databricks.v1+cell": {
     "cellMetadata": {},
     "inputWidgets": {},
     "nuid": "8965977a-d6b5-4b5e-a803-5e41331545a4",
     "showTitle": false,
     "title": ""
    }
   },
   "source": [
    "#### 3-Hr Forecast Transformations"
   ]
  },
  {
   "cell_type": "code",
   "execution_count": null,
   "metadata": {
    "application/vnd.databricks.v1+cell": {
     "cellMetadata": {},
     "inputWidgets": {},
     "nuid": "cc37146e-fb81-4e13-9eda-49d951d726d6",
     "showTitle": false,
     "title": ""
    }
   },
   "outputs": [],
   "source": []
  },
  {
   "cell_type": "markdown",
   "metadata": {
    "application/vnd.databricks.v1+cell": {
     "cellMetadata": {},
     "inputWidgets": {},
     "nuid": "e7a81493-9dc0-4e52-bddf-ca7eb4a6924b",
     "showTitle": false,
     "title": ""
    }
   },
   "source": [
    "#### Fast-Slow Joins"
   ]
  },
  {
   "cell_type": "code",
   "execution_count": null,
   "metadata": {
    "application/vnd.databricks.v1+cell": {
     "cellMetadata": {
      "byteLimit": 2048000,
      "rowLimit": 10000
     },
     "inputWidgets": {},
     "nuid": "d7c47835-cd65-4073-8f83-3b38d2d85a72",
     "showTitle": false,
     "title": ""
    }
   },
   "outputs": [],
   "source": [
    "# enrich current weather with geocode\n",
    "# geocode can be broadcast joined for query optimization: copy it to all worker nodes since its a small static dataset\n",
    "# left join for enrichment\n",
    "enriched_curr_weather = curr_weather_df.join(\n",
    "    broadcast(geocode_df),\n",
    "    on = [\"lat\", \"lon\"],\n",
    "    how = \"left\"\n",
    "    )\n"
   ]
  },
  {
   "cell_type": "code",
   "execution_count": null,
   "metadata": {
    "application/vnd.databricks.v1+cell": {
     "cellMetadata": {},
     "inputWidgets": {},
     "nuid": "8acd5599-00de-4f60-a0c4-a30c50bbd7a3",
     "showTitle": false,
     "title": ""
    }
   },
   "outputs": [],
   "source": []
  }
 ],
 "metadata": {
  "application/vnd.databricks.v1+notebook": {
   "dashboards": [],
   "environmentMetadata": null,
   "language": "python",
   "notebookMetadata": {
    "pythonIndentUnit": 4
   },
   "notebookName": "Transformation_Silver",
   "widgets": {}
  },
  "language_info": {
   "name": "python"
  }
 },
 "nbformat": 4,
 "nbformat_minor": 0
}
